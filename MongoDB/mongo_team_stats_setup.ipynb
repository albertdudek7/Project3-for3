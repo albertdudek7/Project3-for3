{
 "cells": [
  {
   "cell_type": "code",
   "execution_count": 1,
   "id": "5d3299ff",
   "metadata": {},
   "outputs": [],
   "source": [
    "# Import dependencies\n",
    "from pymongo import MongoClient\n",
    "from pprint import pprint\n",
    "import pandas as pd"
   ]
  },
  {
   "cell_type": "code",
   "execution_count": 2,
   "id": "d59d7ba4",
   "metadata": {},
   "outputs": [],
   "source": [
    "# Create an instance of MongoClient\n",
    "mongo = MongoClient(port=27017)"
   ]
  },
  {
   "cell_type": "markdown",
   "id": "0d8883ea",
   "metadata": {},
   "source": [
    "Ensure you have a MongoDB database named `3-for-3` before running the following cell:"
   ]
  },
  {
   "cell_type": "code",
   "execution_count": 3,
   "id": "411ff05b",
   "metadata": {},
   "outputs": [],
   "source": [
    "# assign the 3-for-3 database to a variable name\n",
    "db = mongo['3-for-3']"
   ]
  },
  {
   "cell_type": "markdown",
   "id": "33e66187",
   "metadata": {},
   "source": [
    "Also make sure you have a `team-stats` collection."
   ]
  },
  {
   "cell_type": "code",
   "execution_count": 4,
   "id": "4643cca2",
   "metadata": {},
   "outputs": [
    {
     "data": {
      "text/plain": [
       "['team-stats']"
      ]
     },
     "execution_count": 4,
     "metadata": {},
     "output_type": "execute_result"
    }
   ],
   "source": [
    "db.list_collection_names()"
   ]
  },
  {
   "cell_type": "markdown",
   "id": "b3ec8d34",
   "metadata": {},
   "source": [
    "Import data into the collection `teams_stats` in MongoDB:"
   ]
  },
  {
   "cell_type": "code",
   "execution_count": null,
   "id": "98426c32",
   "metadata": {},
   "outputs": [],
   "source": []
  }
 ],
 "metadata": {
  "kernelspec": {
   "display_name": "Python 3 (ipykernel)",
   "language": "python",
   "name": "python3"
  },
  "language_info": {
   "codemirror_mode": {
    "name": "ipython",
    "version": 3
   },
   "file_extension": ".py",
   "mimetype": "text/x-python",
   "name": "python",
   "nbconvert_exporter": "python",
   "pygments_lexer": "ipython3",
   "version": "3.10.11"
  }
 },
 "nbformat": 4,
 "nbformat_minor": 5
}
